{
 "metadata": {
  "language_info": {
   "codemirror_mode": {
    "name": "ipython",
    "version": 3
   },
   "file_extension": ".py",
   "mimetype": "text/x-python",
   "name": "python",
   "nbconvert_exporter": "python",
   "pygments_lexer": "ipython3",
   "version": "3.8.3-final"
  },
  "orig_nbformat": 2,
  "kernelspec": {
   "name": "messagevenv",
   "display_name": "messagevenv"
  }
 },
 "nbformat": 4,
 "nbformat_minor": 2,
 "cells": [
  {
   "cell_type": "code",
   "execution_count": 1,
   "metadata": {
    "tags": []
   },
   "outputs": [],
   "source": [
    "import os\n",
    "import sys\n",
    "import pandas as pd\n",
    "import numpy as np\n",
    "import json\n",
    "import matplotlib.pyplot as plt\n",
    "import seaborn as sns\n",
    "from os import path\n",
    "%load_ext autoreload\n",
    "%autoreload 2\n",
    "%load_ext line_profiler\n",
    "\n",
    "from helper_functions import *\n",
    "from analytic_functions import *\n",
    "\n",
    "pd.set_option('max_colwidth', None)"
   ]
  },
  {
   "cell_type": "code",
   "execution_count": 2,
   "metadata": {},
   "outputs": [
    {
     "output_type": "execute_result",
     "data": {
      "text/plain": "2931"
     },
     "metadata": {},
     "execution_count": 2
    }
   ],
   "source": [
    "total_messages, total_messages_with_id, participant_names = get_messages(messageloc = 'facebookdata/SundayFunday_IBZHKct__w/')\n",
    "len(total_messages)"
   ]
  },
  {
   "cell_type": "markdown",
   "metadata": {},
   "source": [
    "## GENERAL STATS"
   ]
  },
  {
   "cell_type": "code",
   "execution_count": 3,
   "metadata": {
    "tags": []
   },
   "outputs": [],
   "source": [
    "### who has sent the most messages\n",
    "d = message_count(total_messages, participant_names)\n",
    "\n",
    "### most character count\n",
    "d =total_character_count(total_messages, participant_names)\n",
    "\n",
    "### average character count\n",
    "d = average_character_count(total_messages, participant_names)\n",
    "\n",
    "### most reacted to message\n",
    "df = pd.Series(most_reacted_to_message(total_messages_with_id)).to_frame()\n",
    "render_mpl_table(df.reset_index(), col_width=9.0)\n",
    "plt.savefig(f'pictures/most_reacted_message')\n",
    "plt.close()\n",
    "\n",
    "### recieved reactions for every participant\n",
    "render_mpl_table(reactions_recieved_by_all(participant_names, total_messages, returntype='pd').reset_index())\n",
    "plt.savefig('pictures/reactions_recieved_by_all.png')\n",
    "plt.close()\n",
    "\n",
    "### specific react to messages reation\n",
    "react_stats = reactions_recieved_by_all(participant_names, total_messages, returntype='dict')\n",
    "\n",
    "### who has reacted what the most\n",
    "render_mpl_table(reactions_given_by_all(total_messages).reset_index())\n",
    "plt.savefig(f'pictures/reactions_given_by_all')\n",
    "plt.close()\n",
    "\n",
    "### group name changes\n",
    "d = group_name_changes_timeline(total_messages)\n",
    "\n",
    "### photos count\n",
    "d = most_common_photo_sender(total_messages)\n",
    "\n",
    "### groups most common words\n",
    "# most_common_words([i['content'] for i in total_messages if 'content' in i]).head(20)\n",
    "\n",
    "### most common tags per person\n",
    "tag_correlation_matrix(participant_names, total_messages)\n",
    "plt.close()\n",
    "\n",
    "### reply matrix\n",
    "gen_reply_matrix(total_messages_with_id, participant_names, False)\n",
    "plt.close()"
   ]
  },
  {
   "cell_type": "code",
   "execution_count": null,
   "metadata": {},
   "outputs": [],
   "source": []
  },
  {
   "cell_type": "code",
   "execution_count": null,
   "metadata": {},
   "outputs": [],
   "source": []
  },
  {
   "cell_type": "markdown",
   "metadata": {},
   "source": [
    "## STATS FOR PARTICIPANT"
   ]
  },
  {
   "cell_type": "code",
   "execution_count": 12,
   "metadata": {
    "tags": []
   },
   "outputs": [],
   "source": [
    "for participant in participant_names:\n",
    "    pdir = f'pictures/{participant}'\n",
    "    if not path.exists(pdir):\n",
    "        os.mkdir(pdir)\n",
    "    ### reactions given to participant per person\n",
    "    render_mpl_table(reactions_recieved_by_participant(total_messages, participant).reset_index())\n",
    "    plt.title(f'Reactions {participant} has recieved')\n",
    "    plt.savefig(f'{pdir}/reactions_recieved_by_participant {participant}')\n",
    "    plt.close()\n",
    "\n",
    "    ### reactions given by participant\n",
    "    df = reactions_given_by_participant(total_messages, participant_names,participant)\n",
    "    render_mpl_table(df.reset_index())\n",
    "    plt.title(f'Reactions {participant} has given')\n",
    "    plt.savefig(f'{pdir}/reactions_given_by_participant {participant}')\n",
    "    plt.close()\n",
    "\n",
    "    ### average reactions to participant message and max reactions\n",
    "    # average_and_max_reactions_for_participant(total_messages, participant)\n",
    "\n",
    "    ### self reacts\n",
    "    df = pd.DataFrame(self_reacts(total_messages, participant))\n",
    "    if len(df) > 0:\n",
    "        render_mpl_table(df, col_width=9.0)\n",
    "        plt.savefig(f'{pdir}/self_reacts_{participant}')\n",
    "        plt.close()\n",
    "\n",
    "    ### most common words by participant\n",
    "    plot_dict(most_common_words_by_participant(total_messages, participant).head(20).to_dict());\n",
    "    plt.savefig(f'{pdir}/most_common_words_{participant}.png')\n",
    "    plt.close()\n",
    "\n",
    "    ### all nicknames of particpant\n",
    "    pnamereturn, ptimereturn = nickname_changes_and_times(total_messages, participant)\n",
    "\n",
    "    df = (pd.DataFrame(flat_list([[(k,vi) for vi in v] for k,v in pnamereturn.items()])))\n",
    "    if len(df) > 0:\n",
    "        render_mpl_table(df, col_width=9.0)\n",
    "        plt.savefig(f'{pdir}/nickname_history_{participant}')\n",
    "        plt.close()\n",
    "\n",
    "        plot_dict(ptimereturn.to_dict())\n",
    "        plt.savefig(f'{pdir}/nickname_timeline_{participant}.png')\n",
    "        plt.close()\n",
    "\n",
    "    ### usage per person\n",
    "    usage_participant_highlighted(total_messages, participant_names, participant)\n",
    "    plt.close()"
   ]
  },
  {
   "cell_type": "markdown",
   "metadata": {},
   "source": [
    "### reading level"
   ]
  },
  {
   "cell_type": "code",
   "execution_count": 6,
   "metadata": {},
   "outputs": [],
   "source": [
    "# rdng_levels = {}\n",
    "# for pn in participant_names:\n",
    "#     pmes = [i['content'] for i in total_messages if 'content' in i and pn == i['sender_name']]\n",
    "#     textblob = reduce(lambda a,b: a + ' ' + b, pmes)\n",
    "#     rdng_levels[pn] = textstat.smog_index(textblob)"
   ]
  },
  {
   "cell_type": "code",
   "execution_count": 7,
   "metadata": {},
   "outputs": [],
   "source": [
    "# pd.Series(rdng_levels).sort_values(ascending=False)"
   ]
  },
  {
   "cell_type": "code",
   "execution_count": 8,
   "metadata": {},
   "outputs": [],
   "source": [
    "# import textstat"
   ]
  },
  {
   "cell_type": "code",
   "execution_count": 9,
   "metadata": {},
   "outputs": [],
   "source": [
    "# textstat.gunning_fog('Esteemed friends and colleagues, please disregard this foolish momentary abandonment of my eloquence related endeavors. When faced with the visage of statistics and scholarship, feeling the exhilarating thrill of problem solving, I briefly forgot myself and the notions to which I had previously committed myself. As I mentioned before, the further we become removed from this discussion the more likely and frequent such lapses will become, but such is life.')"
   ]
  },
  {
   "cell_type": "code",
   "execution_count": 30,
   "metadata": {},
   "outputs": [],
   "source": []
  },
  {
   "cell_type": "code",
   "execution_count": null,
   "metadata": {},
   "outputs": [],
   "source": []
  },
  {
   "cell_type": "code",
   "execution_count": 10,
   "metadata": {},
   "outputs": [],
   "source": [
    "# word_usage_highlighted(total_messages, participant_names, 'code')\n",
    "# plt.close()"
   ]
  }
 ]
}