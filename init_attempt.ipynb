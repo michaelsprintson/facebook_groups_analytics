{
 "metadata": {
  "language_info": {
   "codemirror_mode": {
    "name": "ipython",
    "version": 3
   },
   "file_extension": ".py",
   "mimetype": "text/x-python",
   "name": "python",
   "nbconvert_exporter": "python",
   "pygments_lexer": "ipython3",
   "version": "3.8.3-final"
  },
  "orig_nbformat": 2,
  "kernelspec": {
   "name": "messagevenv",
   "display_name": "messagevenv"
  }
 },
 "nbformat": 4,
 "nbformat_minor": 2,
 "cells": [
  {
   "cell_type": "code",
   "execution_count": 1,
   "metadata": {
    "tags": []
   },
   "outputs": [],
   "source": [
    "import os\n",
    "import sys\n",
    "import pandas as pd\n",
    "import numpy as np\n",
    "import json\n",
    "import matplotlib.pyplot as plt\n",
    "import seaborn as sns\n",
    "%load_ext autoreload\n",
    "%autoreload 2\n",
    "%load_ext line_profiler\n",
    "\n",
    "from helper_functions import *\n",
    "from analytic_functions import *\n",
    "\n",
    "pd.set_option('max_colwidth', None)"
   ]
  },
  {
   "cell_type": "code",
   "execution_count": 2,
   "metadata": {},
   "outputs": [
    {
     "output_type": "execute_result",
     "data": {
      "text/plain": "44595"
     },
     "metadata": {},
     "execution_count": 2
    }
   ],
   "source": [
    "total_messages, total_messages_with_id, participant_names = get_messages()\n",
    "len(total_messages)"
   ]
  },
  {
   "cell_type": "code",
   "execution_count": 3,
   "metadata": {},
   "outputs": [],
   "source": [
    "participant = 'Rene Carballo'"
   ]
  },
  {
   "cell_type": "markdown",
   "metadata": {},
   "source": [
    "### who has sent the most messages"
   ]
  },
  {
   "cell_type": "code",
   "execution_count": 4,
   "metadata": {
    "tags": []
   },
   "outputs": [],
   "source": [
    "d = message_count(total_messages, participant_names)"
   ]
  },
  {
   "cell_type": "markdown",
   "metadata": {},
   "source": [
    "### most character count"
   ]
  },
  {
   "cell_type": "code",
   "execution_count": 5,
   "metadata": {
    "tags": []
   },
   "outputs": [],
   "source": [
    "d = average_character_count(total_messages, participant_names)"
   ]
  },
  {
   "cell_type": "code",
   "execution_count": 6,
   "metadata": {
    "tags": []
   },
   "outputs": [],
   "source": [
    "d =total_character_count(total_messages, participant_names)"
   ]
  },
  {
   "cell_type": "markdown",
   "metadata": {},
   "source": [
    "### most reacted to message"
   ]
  },
  {
   "cell_type": "code",
   "execution_count": 7,
   "metadata": {
    "tags": []
   },
   "outputs": [
    {
     "output_type": "execute_result",
     "data": {
      "text/plain": "{'sender_name': 'Kevin Tu',\n 'timestamp_ms': 1594843341343,\n 'content': 'Wow I just got an offer for full time at raytheon',\n 'reactions': [{'reaction': 'ð\\x9f\\x92\\x97', 'actor': 'Armando Amigon'},\n  {'reaction': 'ð\\x9f\\x92\\x97', 'actor': 'Feme Longe'},\n  {'reaction': 'â\\x9d¤', 'actor': 'Michael Sprintson'},\n  {'reaction': 'â\\x9d¤', 'actor': 'Zach Alvear'},\n  {'reaction': 'â\\x9d¤', 'actor': 'Anirudh Kuchibhatla'},\n  {'reaction': 'ð\\x9f\\x92\\x97', 'actor': 'Rene Carballo'},\n  {'reaction': 'â\\x9d¤', 'actor': 'Joshua Bae'},\n  {'reaction': 'ð\\x9f\\x92\\x97', 'actor': 'Patrick Chickey'},\n  {'reaction': 'â\\x9d¤', 'actor': 'Justin Cheung'},\n  {'reaction': 'ð\\x9f\\x92\\x97', 'actor': 'Fredy Martinez'},\n  {'reaction': 'â\\x9d¤', 'actor': 'Kevin Mejia'}],\n 'type': 'Generic'}"
     },
     "metadata": {},
     "execution_count": 7
    }
   ],
   "source": [
    "most_reacted_to_message(total_messages_with_id)"
   ]
  },
  {
   "cell_type": "markdown",
   "metadata": {},
   "source": [
    "### recieved reactions for every participant"
   ]
  },
  {
   "cell_type": "code",
   "execution_count": 8,
   "metadata": {},
   "outputs": [],
   "source": [
    "render_mpl_table(reactions_recieved_by_all(participant_names, total_messages, returntype='pd').reset_index())\n",
    "plt.savefig('pictures/reactions_recieved_by_all.png')\n",
    "plt.close()"
   ]
  },
  {
   "cell_type": "markdown",
   "metadata": {},
   "source": [
    "### specific react to messages reatio"
   ]
  },
  {
   "cell_type": "code",
   "execution_count": 9,
   "metadata": {},
   "outputs": [],
   "source": [
    "react_stats = reactions_recieved_by_all(participant_names, total_messages, returntype='dict')"
   ]
  },
  {
   "cell_type": "markdown",
   "metadata": {},
   "source": [
    "### reactions given to participant per person"
   ]
  },
  {
   "cell_type": "code",
   "execution_count": 10,
   "metadata": {},
   "outputs": [],
   "source": [
    "render_mpl_table(reactions_recieved_by_participant(total_messages, participant).reset_index())\n",
    "plt.savefig(f'pictures/reactions_recieved_by_participant {participant}')\n",
    "plt.close()"
   ]
  },
  {
   "cell_type": "markdown",
   "metadata": {},
   "source": [
    "### who has reacted what the most"
   ]
  },
  {
   "cell_type": "code",
   "execution_count": 11,
   "metadata": {},
   "outputs": [],
   "source": [
    "render_mpl_table(reactions_given_by_all(total_messages).reset_index())\n",
    "plt.savefig(f'pictures/reactions_given_by_all')\n",
    "plt.close()"
   ]
  },
  {
   "cell_type": "markdown",
   "metadata": {},
   "source": [
    "### reactions given by participant"
   ]
  },
  {
   "cell_type": "code",
   "execution_count": 12,
   "metadata": {},
   "outputs": [],
   "source": [
    "df = reactions_given_by_participant(total_messages,participant)"
   ]
  },
  {
   "cell_type": "code",
   "execution_count": 13,
   "metadata": {},
   "outputs": [],
   "source": [
    "render_mpl_table(df.reset_index())\n",
    "plt.savefig(f'pictures/reactions_given_by_participant {participant}')\n",
    "plt.close()"
   ]
  },
  {
   "cell_type": "code",
   "execution_count": null,
   "metadata": {},
   "outputs": [],
   "source": []
  },
  {
   "cell_type": "markdown",
   "metadata": {},
   "source": [
    "### average reactions to participant message and max reactions"
   ]
  },
  {
   "cell_type": "code",
   "execution_count": 14,
   "metadata": {},
   "outputs": [
    {
     "output_type": "execute_result",
     "data": {
      "text/plain": "(2.0, 2)"
     },
     "metadata": {},
     "execution_count": 14
    }
   ],
   "source": [
    "average_and_max_reactions_for_participant(total_messages, participant)"
   ]
  },
  {
   "cell_type": "markdown",
   "metadata": {},
   "source": [
    "### which message did kevin react to himself"
   ]
  },
  {
   "cell_type": "code",
   "execution_count": 15,
   "metadata": {},
   "outputs": [
    {
     "output_type": "execute_result",
     "data": {
      "text/plain": "     sender_name   timestamp_ms  \\\n0  Rene Carballo  1569268770587   \n1  Rene Carballo  1571085702589   \n2  Rene Carballo  1575479400153   \n3  Rene Carballo  1586362084611   \n4  Rene Carballo  1588539410457   \n5  Rene Carballo  1593302357225   \n6  Rene Carballo  1595449980510   \n\n                                           content  \\\n0                                             ð½   \n1                                        I got 1/2   \n2    Oh how far did you guys get in 303 yesterday?   \n3           Is she still technically SA president?   \n4  Wait can I join if I'm not in the Spotify plan?   \n5       Labview is a p useful programming language   \n6                                        Cd's nuts   \n\n                                                                                                                                                                                            reactions  \\\n0                                                [{'reaction': 'ð', 'actor': 'Zach Alvear'}, {'reaction': 'ð', 'actor': 'Anirudh Kuchibhatla'}, {'reaction': 'ð', 'actor': 'Rene Carballo'}]   \n1  [{'reaction': 'ð ', 'actor': 'Anirudh Kuchibhatla'}, {'reaction': 'ð', 'actor': 'Rene Carballo'}, {'reaction': 'ð', 'actor': 'Fredy Martinez'}, {'reaction': 'ð', 'actor': 'Kevin Tu'}]   \n2                                                     [{'reaction': 'ð', 'actor': 'Rene Carballo'}, {'reaction': 'ð', 'actor': 'Fredy Martinez'}, {'reaction': 'ð', 'actor': 'Kevin Mejia'}]   \n3                                                      [{'reaction': 'ð', 'actor': 'Armando Amigon'}, {'reaction': 'ð', 'actor': 'Feme Longe'}, {'reaction': 'ð¢', 'actor': 'Rene Carballo'}]   \n4                                                                                                      [{'reaction': 'ð¢', 'actor': 'Rene Carballo'}, {'reaction': 'ð', 'actor': 'Kevin Mejia'}]   \n5                                                                                                    [{'reaction': 'ð', 'actor': 'Rene Carballo'}, {'reaction': 'ð', 'actor': 'Justin Cheung'}]   \n6                                                                                                   [{'reaction': 'ð ', 'actor': 'Armando Amigon'}, {'reaction': 'ð', 'actor': 'Rene Carballo'}]   \n\n      type  \n0  Generic  \n1  Generic  \n2  Generic  \n3  Generic  \n4  Generic  \n5  Generic  \n6  Generic  ",
      "text/html": "<div>\n<style scoped>\n    .dataframe tbody tr th:only-of-type {\n        vertical-align: middle;\n    }\n\n    .dataframe tbody tr th {\n        vertical-align: top;\n    }\n\n    .dataframe thead th {\n        text-align: right;\n    }\n</style>\n<table border=\"1\" class=\"dataframe\">\n  <thead>\n    <tr style=\"text-align: right;\">\n      <th></th>\n      <th>sender_name</th>\n      <th>timestamp_ms</th>\n      <th>content</th>\n      <th>reactions</th>\n      <th>type</th>\n    </tr>\n  </thead>\n  <tbody>\n    <tr>\n      <th>0</th>\n      <td>Rene Carballo</td>\n      <td>1569268770587</td>\n      <td>ð½</td>\n      <td>[{'reaction': 'ð', 'actor': 'Zach Alvear'}, {'reaction': 'ð', 'actor': 'Anirudh Kuchibhatla'}, {'reaction': 'ð', 'actor': 'Rene Carballo'}]</td>\n      <td>Generic</td>\n    </tr>\n    <tr>\n      <th>1</th>\n      <td>Rene Carballo</td>\n      <td>1571085702589</td>\n      <td>I got 1/2</td>\n      <td>[{'reaction': 'ð ', 'actor': 'Anirudh Kuchibhatla'}, {'reaction': 'ð', 'actor': 'Rene Carballo'}, {'reaction': 'ð', 'actor': 'Fredy Martinez'}, {'reaction': 'ð', 'actor': 'Kevin Tu'}]</td>\n      <td>Generic</td>\n    </tr>\n    <tr>\n      <th>2</th>\n      <td>Rene Carballo</td>\n      <td>1575479400153</td>\n      <td>Oh how far did you guys get in 303 yesterday?</td>\n      <td>[{'reaction': 'ð', 'actor': 'Rene Carballo'}, {'reaction': 'ð', 'actor': 'Fredy Martinez'}, {'reaction': 'ð', 'actor': 'Kevin Mejia'}]</td>\n      <td>Generic</td>\n    </tr>\n    <tr>\n      <th>3</th>\n      <td>Rene Carballo</td>\n      <td>1586362084611</td>\n      <td>Is she still technically SA president?</td>\n      <td>[{'reaction': 'ð', 'actor': 'Armando Amigon'}, {'reaction': 'ð', 'actor': 'Feme Longe'}, {'reaction': 'ð¢', 'actor': 'Rene Carballo'}]</td>\n      <td>Generic</td>\n    </tr>\n    <tr>\n      <th>4</th>\n      <td>Rene Carballo</td>\n      <td>1588539410457</td>\n      <td>Wait can I join if I'm not in the Spotify plan?</td>\n      <td>[{'reaction': 'ð¢', 'actor': 'Rene Carballo'}, {'reaction': 'ð', 'actor': 'Kevin Mejia'}]</td>\n      <td>Generic</td>\n    </tr>\n    <tr>\n      <th>5</th>\n      <td>Rene Carballo</td>\n      <td>1593302357225</td>\n      <td>Labview is a p useful programming language</td>\n      <td>[{'reaction': 'ð', 'actor': 'Rene Carballo'}, {'reaction': 'ð', 'actor': 'Justin Cheung'}]</td>\n      <td>Generic</td>\n    </tr>\n    <tr>\n      <th>6</th>\n      <td>Rene Carballo</td>\n      <td>1595449980510</td>\n      <td>Cd's nuts</td>\n      <td>[{'reaction': 'ð ', 'actor': 'Armando Amigon'}, {'reaction': 'ð', 'actor': 'Rene Carballo'}]</td>\n      <td>Generic</td>\n    </tr>\n  </tbody>\n</table>\n</div>"
     },
     "metadata": {},
     "execution_count": 15
    }
   ],
   "source": [
    "pd.DataFrame(self_reacts(total_messages, participant))"
   ]
  },
  {
   "cell_type": "markdown",
   "metadata": {},
   "source": [
    "### kevins most common words"
   ]
  },
  {
   "cell_type": "code",
   "execution_count": 16,
   "metadata": {
    "tags": []
   },
   "outputs": [],
   "source": [
    "plot_dict(most_common_words_by_participant(total_messages, participant).head(20).to_dict());\n",
    "plt.savefig(f'pictures/most_common_words_{participant}.png')\n",
    "plt.close()"
   ]
  },
  {
   "cell_type": "markdown",
   "metadata": {},
   "source": [
    "### groups most common words"
   ]
  },
  {
   "cell_type": "code",
   "execution_count": 17,
   "metadata": {},
   "outputs": [],
   "source": [
    "# most_common_words([i['content'] for i in total_messages if 'content' in i]).head(20)"
   ]
  },
  {
   "cell_type": "markdown",
   "metadata": {},
   "source": [
    "### all nicknames of particpant"
   ]
  },
  {
   "cell_type": "code",
   "execution_count": 18,
   "metadata": {},
   "outputs": [],
   "source": [
    "pnamereturn, ptimereturn = nickname_changes_and_times(total_messages, participant)"
   ]
  },
  {
   "cell_type": "code",
   "execution_count": 19,
   "metadata": {},
   "outputs": [
    {
     "output_type": "execute_result",
     "data": {
      "text/plain": "                                                                                                                                                                                                                    0\nJoshua Bae                                                                                                                                                                                       [elec after dinner?]\nKevin Tu             [elec after dinner?: 1., daddy orchard is disappointed in me., hurt me more daddy orchard., 3 slices boi., disappointment overflow (volunteer)., disappointment overflow (host)., rice dropout.]\nMichael Sprintson                                                                                                                                         [after dinner?, disappointment overflow., gtx 970 (3.5/4).]\nKevin Mejia                                                                                                                                                                         [Daddy Orchard's Disappointment.]\nArmando Amigon                                                                                                                                            [post disappointment sex nachos., Disappointment Overflow.]\nZach Alvear                                                                                                                                                              [monogamous post disappointment sex nachos.]\nAnirudh Kuchibhatla                                                                                                                                             [monogamous post disappointment sex nachos overflow.]\nPatrick Chickey                                                                                                                                                      [M.P.D.S.O., M.P.D.S.N.O., professional banner.]",
      "text/html": "<div>\n<style scoped>\n    .dataframe tbody tr th:only-of-type {\n        vertical-align: middle;\n    }\n\n    .dataframe tbody tr th {\n        vertical-align: top;\n    }\n\n    .dataframe thead th {\n        text-align: right;\n    }\n</style>\n<table border=\"1\" class=\"dataframe\">\n  <thead>\n    <tr style=\"text-align: right;\">\n      <th></th>\n      <th>0</th>\n    </tr>\n  </thead>\n  <tbody>\n    <tr>\n      <th>Joshua Bae</th>\n      <td>[elec after dinner?]</td>\n    </tr>\n    <tr>\n      <th>Kevin Tu</th>\n      <td>[elec after dinner?: 1., daddy orchard is disappointed in me., hurt me more daddy orchard., 3 slices boi., disappointment overflow (volunteer)., disappointment overflow (host)., rice dropout.]</td>\n    </tr>\n    <tr>\n      <th>Michael Sprintson</th>\n      <td>[after dinner?, disappointment overflow., gtx 970 (3.5/4).]</td>\n    </tr>\n    <tr>\n      <th>Kevin Mejia</th>\n      <td>[Daddy Orchard's Disappointment.]</td>\n    </tr>\n    <tr>\n      <th>Armando Amigon</th>\n      <td>[post disappointment sex nachos., Disappointment Overflow.]</td>\n    </tr>\n    <tr>\n      <th>Zach Alvear</th>\n      <td>[monogamous post disappointment sex nachos.]</td>\n    </tr>\n    <tr>\n      <th>Anirudh Kuchibhatla</th>\n      <td>[monogamous post disappointment sex nachos overflow.]</td>\n    </tr>\n    <tr>\n      <th>Patrick Chickey</th>\n      <td>[M.P.D.S.O., M.P.D.S.N.O., professional banner.]</td>\n    </tr>\n  </tbody>\n</table>\n</div>"
     },
     "metadata": {},
     "execution_count": 19
    }
   ],
   "source": [
    "pnamereturn"
   ]
  },
  {
   "cell_type": "code",
   "execution_count": 20,
   "metadata": {
    "tags": []
   },
   "outputs": [],
   "source": [
    "plot_dict(ptimereturn.to_dict())\n",
    "plt.savefig(f'pictures/nickname_history_{participant}.png')\n",
    "plt.close()"
   ]
  },
  {
   "cell_type": "markdown",
   "metadata": {},
   "source": [
    " ## group name changes"
   ]
  },
  {
   "cell_type": "code",
   "execution_count": 21,
   "metadata": {
    "tags": []
   },
   "outputs": [
    {
     "output_type": "execute_result",
     "data": {
      "text/plain": "{'Shockj Bojs.': 10316133189,\n 'jllumjnatj.': 7929928712,\n 'Shocki Bois.': 1950046060,\n 'every night at fredys.': 1914519071,\n 'sad boi elecs (in quarantine).': 1217456814,\n 'The Alpha ELEC Group Chat.': 1045727243,\n 'sad boi elecs.': 588028079,\n 'Opensource HW Answers.': 580061751,\n 'Funded By Simar (Satire).': 525119715,\n 'wwj troops (ð\\x9f¤¬).': 356026100,\n '220 Volunteers (Satire).': 174060342,\n 'misery loves Simar.': 68213759,\n '220 Volunteers.': 12541105,\n 'ELEC Goon Squad.': 3622140,\n 'misery loves company.': 282359,\n \"DoJo's Dojo.\": 82395,\n 'ww4 troops (angry).': 65235,\n 'Armando Is A Bully.': 61724,\n 'wwj troops (angry).': 49476,\n 'A N G E R J  Bojs.': 44964,\n 'Fredy and the Bois.': 37049,\n 'Fredy and the Oppressed.': 33183,\n \"Fredy's Tyranny.\": 27808,\n 'wwj troops (angery).': 24691,\n \"Fredy's and the Bois.\": 11259,\n 'all nights at fredys.': 1587}"
     },
     "metadata": {},
     "execution_count": 21
    }
   ],
   "source": [
    "group_name_changes_timeline(total_messages)"
   ]
  },
  {
   "cell_type": "markdown",
   "metadata": {},
   "source": [
    "### usage per person"
   ]
  },
  {
   "cell_type": "code",
   "execution_count": 22,
   "metadata": {},
   "outputs": [],
   "source": [
    "usage_participant_highlighted(total_messages, participant_names, participant)\n",
    "plt.close()"
   ]
  },
  {
   "cell_type": "code",
   "execution_count": 23,
   "metadata": {
    "tags": []
   },
   "outputs": [],
   "source": [
    "word_usage_highlighted(total_messages, participant_names, 'code')\n",
    "plt.close()"
   ]
  },
  {
   "cell_type": "code",
   "execution_count": null,
   "metadata": {},
   "outputs": [],
   "source": []
  },
  {
   "cell_type": "markdown",
   "metadata": {},
   "source": [
    "### photos count"
   ]
  },
  {
   "cell_type": "code",
   "execution_count": 24,
   "metadata": {
    "tags": []
   },
   "outputs": [
    {
     "output_type": "execute_result",
     "data": {
      "text/plain": "{'Michael Sprintson': 331,\n 'Kevin Tu': 316,\n 'Kevin Mejia': 314,\n 'Armando Amigon': 265,\n 'Justin Cheung': 218,\n 'Feme Longe': 165,\n 'Rene Carballo': 146,\n 'Joshua Bae': 135,\n 'Anirudh Kuchibhatla': 117,\n 'Patrick Chickey': 98,\n 'Zach Alvear': 71,\n 'Fredy Martinez': 65}"
     },
     "metadata": {},
     "execution_count": 24
    }
   ],
   "source": [
    "most_common_photo_sender(total_messages)"
   ]
  },
  {
   "cell_type": "markdown",
   "metadata": {},
   "source": [
    "### reading level"
   ]
  },
  {
   "cell_type": "code",
   "execution_count": 25,
   "metadata": {},
   "outputs": [],
   "source": [
    "# rdng_levels = {}\n",
    "# for pn in participant_names:\n",
    "#     pmes = [i['content'] for i in total_messages if 'content' in i and pn == i['sender_name']]\n",
    "#     textblob = reduce(lambda a,b: a + ' ' + b, pmes)\n",
    "#     rdng_levels[pn] = textstat.smog_index(textblob)"
   ]
  },
  {
   "cell_type": "code",
   "execution_count": 26,
   "metadata": {},
   "outputs": [],
   "source": [
    "# pd.Series(rdng_levels).sort_values(ascending=False)"
   ]
  },
  {
   "cell_type": "code",
   "execution_count": 27,
   "metadata": {},
   "outputs": [],
   "source": [
    "# import textstat"
   ]
  },
  {
   "cell_type": "code",
   "execution_count": 28,
   "metadata": {},
   "outputs": [],
   "source": [
    "# textstat.gunning_fog('Esteemed friends and colleagues, please disregard this foolish momentary abandonment of my eloquence related endeavors. When faced with the visage of statistics and scholarship, feeling the exhilarating thrill of problem solving, I briefly forgot myself and the notions to which I had previously committed myself. As I mentioned before, the further we become removed from this discussion the more likely and frequent such lapses will become, but such is life.')"
   ]
  },
  {
   "cell_type": "markdown",
   "metadata": {},
   "source": [
    "### most common tags per person"
   ]
  },
  {
   "cell_type": "code",
   "execution_count": 29,
   "metadata": {},
   "outputs": [],
   "source": [
    "tag_correlation_matrix(participant_names, total_messages)\n",
    "plt.close()"
   ]
  },
  {
   "cell_type": "markdown",
   "metadata": {},
   "source": [
    "Let's find who is most likely to reply to who - should use hidden markov model"
   ]
  },
  {
   "cell_type": "code",
   "execution_count": 30,
   "metadata": {},
   "outputs": [],
   "source": [
    "gen_reply_matrix(total_messages_with_id, participant_names, False)\n",
    "plt.close()"
   ]
  },
  {
   "cell_type": "code",
   "execution_count": null,
   "metadata": {},
   "outputs": [],
   "source": []
  }
 ]
}